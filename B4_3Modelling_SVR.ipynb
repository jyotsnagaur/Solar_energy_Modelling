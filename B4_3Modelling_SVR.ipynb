{
 "cells": [
  {
   "cell_type": "markdown",
   "metadata": {},
   "source": [
    "**B4.3 Regression using Support Vector Machine(SVM)**\n",
    "​\n",
    "Support Vector Regression is a supervised learning algorithm that is used to predict discrete values. Support Vector Regression uses the same principle as the SVMs. The basic idea behind SVR is to find the best fit line. In SVR, the best fit line is the hyperplane that has the maximum number of points. "
   ]
  },
  {
   "cell_type": "code",
   "execution_count": 3,
   "metadata": {
    "_cell_guid": "b1076dfc-b9ad-4769-8c92-a6c4dae69d19",
    "_uuid": "8f2839f25d086af736a60e9eeb907d3b93b6e0e5",
    "execution": {
     "iopub.execute_input": "2022-10-28T09:44:49.759462Z",
     "iopub.status.busy": "2022-10-28T09:44:49.759016Z",
     "iopub.status.idle": "2022-10-28T09:44:49.771121Z",
     "shell.execute_reply": "2022-10-28T09:44:49.769706Z",
     "shell.execute_reply.started": "2022-10-28T09:44:49.759426Z"
    }
   },
   "outputs": [
    {
     "name": "stdout",
     "output_type": "stream",
     "text": [
      "/kaggle/input/new-data/new_data.csv\n"
     ]
    }
   ],
   "source": [
    "# This Python 3 environment comes with many helpful analytics libraries installed\n",
    "# It is defined by the kaggle/python Docker image: https://github.com/kaggle/docker-python\n",
    "# For example, here's several helpful packages to load\n",
    "\n",
    "import numpy as np # linear algebra\n",
    "import pandas as pd # data processing, CSV file I/O (e.g. pd.read_csv)\n",
    "\n",
    "# Input data files are available in the read-only \"../input/\" directory\n",
    "# For example, running this (by clicking run or pressing Shift+Enter) will list all files under the input directory\n",
    "\n",
    "import os\n",
    "for dirname, _, filenames in os.walk('/kaggle/input/new-data'): \n",
    "    for filename in filenames:\n",
    "        csv_file = os.path.join(dirname, filename)\n",
    "        print(os.path.join(dirname, filename))\n",
    "\n",
    "# You can write up to 20GB to the current directory (/kaggle/working/) that gets preserved as output when you create a version using \"Save & Run All\" \n",
    "# You can also write temporary files to /kaggle/temp/, but they won't be saved outside of the current session"
   ]
  },
  {
   "cell_type": "code",
   "execution_count": 4,
   "metadata": {
    "execution": {
     "iopub.execute_input": "2022-10-28T09:44:49.774491Z",
     "iopub.status.busy": "2022-10-28T09:44:49.773660Z",
     "iopub.status.idle": "2022-10-28T09:44:49.972117Z",
     "shell.execute_reply": "2022-10-28T09:44:49.970945Z",
     "shell.execute_reply.started": "2022-10-28T09:44:49.774446Z"
    }
   },
   "outputs": [
    {
     "data": {
      "text/html": [
       "<div>\n",
       "<style scoped>\n",
       "    .dataframe tbody tr th:only-of-type {\n",
       "        vertical-align: middle;\n",
       "    }\n",
       "\n",
       "    .dataframe tbody tr th {\n",
       "        vertical-align: top;\n",
       "    }\n",
       "\n",
       "    .dataframe thead th {\n",
       "        text-align: right;\n",
       "    }\n",
       "</style>\n",
       "<table border=\"1\" class=\"dataframe\">\n",
       "  <thead>\n",
       "    <tr style=\"text-align: right;\">\n",
       "      <th></th>\n",
       "      <th>PLANT_ID_x</th>\n",
       "      <th>SOURCE_KEY_x</th>\n",
       "      <th>DC_POWER</th>\n",
       "      <th>AC_POWER</th>\n",
       "      <th>DAILY_YIELD</th>\n",
       "      <th>TOTAL_YIELD</th>\n",
       "      <th>AMBIENT_TEMPERATURE</th>\n",
       "      <th>MODULE_TEMPERATURE</th>\n",
       "      <th>IRRADIATION</th>\n",
       "      <th>TIME</th>\n",
       "      <th>DATE</th>\n",
       "      <th>Target</th>\n",
       "    </tr>\n",
       "  </thead>\n",
       "  <tbody>\n",
       "    <tr>\n",
       "      <th>0</th>\n",
       "      <td>4135001</td>\n",
       "      <td>1BY6WEcLGh8j5v7</td>\n",
       "      <td>0.0</td>\n",
       "      <td>0.0</td>\n",
       "      <td>0.000</td>\n",
       "      <td>6259559.0</td>\n",
       "      <td>25.184316</td>\n",
       "      <td>22.857507</td>\n",
       "      <td>0.0</td>\n",
       "      <td>0:00:00</td>\n",
       "      <td>15/05/2020</td>\n",
       "      <td>0</td>\n",
       "    </tr>\n",
       "    <tr>\n",
       "      <th>1</th>\n",
       "      <td>4135001</td>\n",
       "      <td>1IF53ai7Xc0U56Y</td>\n",
       "      <td>0.0</td>\n",
       "      <td>0.0</td>\n",
       "      <td>0.000</td>\n",
       "      <td>6183645.0</td>\n",
       "      <td>25.184316</td>\n",
       "      <td>22.857507</td>\n",
       "      <td>0.0</td>\n",
       "      <td>0:00:00</td>\n",
       "      <td>15/05/2020</td>\n",
       "      <td>0</td>\n",
       "    </tr>\n",
       "    <tr>\n",
       "      <th>2</th>\n",
       "      <td>4135001</td>\n",
       "      <td>3PZuoBAID5Wc2HD</td>\n",
       "      <td>0.0</td>\n",
       "      <td>0.0</td>\n",
       "      <td>0.000</td>\n",
       "      <td>6987759.0</td>\n",
       "      <td>25.184316</td>\n",
       "      <td>22.857507</td>\n",
       "      <td>0.0</td>\n",
       "      <td>0:00:00</td>\n",
       "      <td>15/05/2020</td>\n",
       "      <td>0</td>\n",
       "    </tr>\n",
       "    <tr>\n",
       "      <th>3</th>\n",
       "      <td>4135001</td>\n",
       "      <td>7JYdWkrLSPkdwr4</td>\n",
       "      <td>0.0</td>\n",
       "      <td>0.0</td>\n",
       "      <td>0.000</td>\n",
       "      <td>7602960.0</td>\n",
       "      <td>25.184316</td>\n",
       "      <td>22.857507</td>\n",
       "      <td>0.0</td>\n",
       "      <td>0:00:00</td>\n",
       "      <td>15/05/2020</td>\n",
       "      <td>0</td>\n",
       "    </tr>\n",
       "    <tr>\n",
       "      <th>4</th>\n",
       "      <td>4135001</td>\n",
       "      <td>McdE0feGgRqW7Ca</td>\n",
       "      <td>0.0</td>\n",
       "      <td>0.0</td>\n",
       "      <td>0.000</td>\n",
       "      <td>7158964.0</td>\n",
       "      <td>25.184316</td>\n",
       "      <td>22.857507</td>\n",
       "      <td>0.0</td>\n",
       "      <td>0:00:00</td>\n",
       "      <td>15/05/2020</td>\n",
       "      <td>0</td>\n",
       "    </tr>\n",
       "    <tr>\n",
       "      <th>...</th>\n",
       "      <td>...</td>\n",
       "      <td>...</td>\n",
       "      <td>...</td>\n",
       "      <td>...</td>\n",
       "      <td>...</td>\n",
       "      <td>...</td>\n",
       "      <td>...</td>\n",
       "      <td>...</td>\n",
       "      <td>...</td>\n",
       "      <td>...</td>\n",
       "      <td>...</td>\n",
       "      <td>...</td>\n",
       "    </tr>\n",
       "    <tr>\n",
       "      <th>45675</th>\n",
       "      <td>4135001</td>\n",
       "      <td>uHbuxQJl8lW7ozc</td>\n",
       "      <td>0.0</td>\n",
       "      <td>0.0</td>\n",
       "      <td>5967.000</td>\n",
       "      <td>7287002.0</td>\n",
       "      <td>21.909288</td>\n",
       "      <td>20.427972</td>\n",
       "      <td>0.0</td>\n",
       "      <td>23:45:00</td>\n",
       "      <td>17/06/2020</td>\n",
       "      <td>0</td>\n",
       "    </tr>\n",
       "    <tr>\n",
       "      <th>45676</th>\n",
       "      <td>4135001</td>\n",
       "      <td>wCURE6d3bPkepu2</td>\n",
       "      <td>0.0</td>\n",
       "      <td>0.0</td>\n",
       "      <td>5147.625</td>\n",
       "      <td>7028601.0</td>\n",
       "      <td>21.909288</td>\n",
       "      <td>20.427972</td>\n",
       "      <td>0.0</td>\n",
       "      <td>23:45:00</td>\n",
       "      <td>17/06/2020</td>\n",
       "      <td>0</td>\n",
       "    </tr>\n",
       "    <tr>\n",
       "      <th>45677</th>\n",
       "      <td>4135001</td>\n",
       "      <td>z9Y9gH1T5YWrNuG</td>\n",
       "      <td>0.0</td>\n",
       "      <td>0.0</td>\n",
       "      <td>5819.000</td>\n",
       "      <td>7251204.0</td>\n",
       "      <td>21.909288</td>\n",
       "      <td>20.427972</td>\n",
       "      <td>0.0</td>\n",
       "      <td>23:45:00</td>\n",
       "      <td>17/06/2020</td>\n",
       "      <td>0</td>\n",
       "    </tr>\n",
       "    <tr>\n",
       "      <th>45678</th>\n",
       "      <td>4135001</td>\n",
       "      <td>zBIq5rxdHJRwDNY</td>\n",
       "      <td>0.0</td>\n",
       "      <td>0.0</td>\n",
       "      <td>5817.000</td>\n",
       "      <td>6583369.0</td>\n",
       "      <td>21.909288</td>\n",
       "      <td>20.427972</td>\n",
       "      <td>0.0</td>\n",
       "      <td>23:45:00</td>\n",
       "      <td>17/06/2020</td>\n",
       "      <td>0</td>\n",
       "    </tr>\n",
       "    <tr>\n",
       "      <th>45679</th>\n",
       "      <td>4135001</td>\n",
       "      <td>zVJPv84UY57bAof</td>\n",
       "      <td>0.0</td>\n",
       "      <td>0.0</td>\n",
       "      <td>5910.000</td>\n",
       "      <td>7363272.0</td>\n",
       "      <td>21.909288</td>\n",
       "      <td>20.427972</td>\n",
       "      <td>0.0</td>\n",
       "      <td>23:45:00</td>\n",
       "      <td>17/06/2020</td>\n",
       "      <td>0</td>\n",
       "    </tr>\n",
       "  </tbody>\n",
       "</table>\n",
       "<p>45680 rows × 12 columns</p>\n",
       "</div>"
      ],
      "text/plain": [
       "       PLANT_ID_x     SOURCE_KEY_x  DC_POWER  AC_POWER  DAILY_YIELD  \\\n",
       "0         4135001  1BY6WEcLGh8j5v7       0.0       0.0        0.000   \n",
       "1         4135001  1IF53ai7Xc0U56Y       0.0       0.0        0.000   \n",
       "2         4135001  3PZuoBAID5Wc2HD       0.0       0.0        0.000   \n",
       "3         4135001  7JYdWkrLSPkdwr4       0.0       0.0        0.000   \n",
       "4         4135001  McdE0feGgRqW7Ca       0.0       0.0        0.000   \n",
       "...           ...              ...       ...       ...          ...   \n",
       "45675     4135001  uHbuxQJl8lW7ozc       0.0       0.0     5967.000   \n",
       "45676     4135001  wCURE6d3bPkepu2       0.0       0.0     5147.625   \n",
       "45677     4135001  z9Y9gH1T5YWrNuG       0.0       0.0     5819.000   \n",
       "45678     4135001  zBIq5rxdHJRwDNY       0.0       0.0     5817.000   \n",
       "45679     4135001  zVJPv84UY57bAof       0.0       0.0     5910.000   \n",
       "\n",
       "       TOTAL_YIELD  AMBIENT_TEMPERATURE  MODULE_TEMPERATURE  IRRADIATION  \\\n",
       "0        6259559.0            25.184316           22.857507          0.0   \n",
       "1        6183645.0            25.184316           22.857507          0.0   \n",
       "2        6987759.0            25.184316           22.857507          0.0   \n",
       "3        7602960.0            25.184316           22.857507          0.0   \n",
       "4        7158964.0            25.184316           22.857507          0.0   \n",
       "...            ...                  ...                 ...          ...   \n",
       "45675    7287002.0            21.909288           20.427972          0.0   \n",
       "45676    7028601.0            21.909288           20.427972          0.0   \n",
       "45677    7251204.0            21.909288           20.427972          0.0   \n",
       "45678    6583369.0            21.909288           20.427972          0.0   \n",
       "45679    7363272.0            21.909288           20.427972          0.0   \n",
       "\n",
       "           TIME        DATE  Target  \n",
       "0       0:00:00  15/05/2020       0  \n",
       "1       0:00:00  15/05/2020       0  \n",
       "2       0:00:00  15/05/2020       0  \n",
       "3       0:00:00  15/05/2020       0  \n",
       "4       0:00:00  15/05/2020       0  \n",
       "...         ...         ...     ...  \n",
       "45675  23:45:00  17/06/2020       0  \n",
       "45676  23:45:00  17/06/2020       0  \n",
       "45677  23:45:00  17/06/2020       0  \n",
       "45678  23:45:00  17/06/2020       0  \n",
       "45679  23:45:00  17/06/2020       0  \n",
       "\n",
       "[45680 rows x 12 columns]"
      ]
     },
     "execution_count": 4,
     "metadata": {},
     "output_type": "execute_result"
    }
   ],
   "source": [
    "csv_file\n",
    "new_data=pd.read_csv(csv_file)\n",
    "new_data"
   ]
  },
  {
   "cell_type": "code",
   "execution_count": 5,
   "metadata": {
    "execution": {
     "iopub.execute_input": "2022-10-28T09:44:49.974776Z",
     "iopub.status.busy": "2022-10-28T09:44:49.974316Z",
     "iopub.status.idle": "2022-10-28T09:44:49.988731Z",
     "shell.execute_reply": "2022-10-28T09:44:49.987527Z",
     "shell.execute_reply.started": "2022-10-28T09:44:49.974729Z"
    }
   },
   "outputs": [],
   "source": [
    "X = new_data[['DC_POWER', 'AC_POWER', 'DAILY_YIELD',\n",
    "       'TOTAL_YIELD', 'AMBIENT_TEMPERATURE', 'MODULE_TEMPERATURE']]\n",
    "y = new_data[['IRRADIATION']]"
   ]
  },
  {
   "cell_type": "code",
   "execution_count": 6,
   "metadata": {
    "execution": {
     "iopub.execute_input": "2022-10-28T09:44:49.992654Z",
     "iopub.status.busy": "2022-10-28T09:44:49.992118Z",
     "iopub.status.idle": "2022-10-28T09:44:50.000281Z",
     "shell.execute_reply": "2022-10-28T09:44:49.999087Z",
     "shell.execute_reply.started": "2022-10-28T09:44:49.992597Z"
    }
   },
   "outputs": [
    {
     "data": {
      "text/plain": [
       "pandas.core.frame.DataFrame"
      ]
     },
     "execution_count": 6,
     "metadata": {},
     "output_type": "execute_result"
    }
   ],
   "source": [
    "type(y)"
   ]
  },
  {
   "cell_type": "code",
   "execution_count": 7,
   "metadata": {
    "execution": {
     "iopub.execute_input": "2022-10-28T09:44:50.002357Z",
     "iopub.status.busy": "2022-10-28T09:44:50.001852Z",
     "iopub.status.idle": "2022-10-28T09:44:50.585765Z",
     "shell.execute_reply": "2022-10-28T09:44:50.584730Z",
     "shell.execute_reply.started": "2022-10-28T09:44:50.002321Z"
    }
   },
   "outputs": [],
   "source": [
    "#Splitting the dataset into training and testing sets\n",
    "from sklearn.model_selection import train_test_split\n",
    "X_train, X_test, y_train, y_test = train_test_split(X, y, test_size = 0.33, random_state=7)"
   ]
  },
  {
   "cell_type": "code",
   "execution_count": 8,
   "metadata": {
    "execution": {
     "iopub.execute_input": "2022-10-28T09:44:50.587683Z",
     "iopub.status.busy": "2022-10-28T09:44:50.586914Z",
     "iopub.status.idle": "2022-10-28T09:44:50.594995Z",
     "shell.execute_reply": "2022-10-28T09:44:50.593782Z",
     "shell.execute_reply.started": "2022-10-28T09:44:50.587648Z"
    }
   },
   "outputs": [
    {
     "data": {
      "text/plain": [
       "(30605, 6)"
      ]
     },
     "execution_count": 8,
     "metadata": {},
     "output_type": "execute_result"
    }
   ],
   "source": [
    "X_train.shape"
   ]
  },
  {
   "cell_type": "code",
   "execution_count": 9,
   "metadata": {
    "execution": {
     "iopub.execute_input": "2022-10-28T09:44:50.596897Z",
     "iopub.status.busy": "2022-10-28T09:44:50.596460Z",
     "iopub.status.idle": "2022-10-28T09:44:50.607971Z",
     "shell.execute_reply": "2022-10-28T09:44:50.606713Z",
     "shell.execute_reply.started": "2022-10-28T09:44:50.596864Z"
    }
   },
   "outputs": [
    {
     "data": {
      "text/plain": [
       "(15075, 6)"
      ]
     },
     "execution_count": 9,
     "metadata": {},
     "output_type": "execute_result"
    }
   ],
   "source": [
    "X_test.shape"
   ]
  },
  {
   "cell_type": "code",
   "execution_count": 10,
   "metadata": {
    "execution": {
     "iopub.execute_input": "2022-10-28T09:44:50.609273Z",
     "iopub.status.busy": "2022-10-28T09:44:50.608947Z",
     "iopub.status.idle": "2022-10-28T09:44:50.621153Z",
     "shell.execute_reply": "2022-10-28T09:44:50.620025Z",
     "shell.execute_reply.started": "2022-10-28T09:44:50.609223Z"
    }
   },
   "outputs": [
    {
     "data": {
      "text/plain": [
       "(30605, 1)"
      ]
     },
     "execution_count": 10,
     "metadata": {},
     "output_type": "execute_result"
    }
   ],
   "source": [
    "y_train.shape"
   ]
  },
  {
   "cell_type": "code",
   "execution_count": 11,
   "metadata": {
    "execution": {
     "iopub.execute_input": "2022-10-28T09:44:50.623501Z",
     "iopub.status.busy": "2022-10-28T09:44:50.623127Z",
     "iopub.status.idle": "2022-10-28T09:44:50.635071Z",
     "shell.execute_reply": "2022-10-28T09:44:50.633769Z",
     "shell.execute_reply.started": "2022-10-28T09:44:50.623469Z"
    }
   },
   "outputs": [
    {
     "data": {
      "text/plain": [
       "(15075, 1)"
      ]
     },
     "execution_count": 11,
     "metadata": {},
     "output_type": "execute_result"
    }
   ],
   "source": [
    "y_test.shape"
   ]
  },
  {
   "cell_type": "code",
   "execution_count": 12,
   "metadata": {
    "execution": {
     "iopub.execute_input": "2022-10-28T09:44:50.640114Z",
     "iopub.status.busy": "2022-10-28T09:44:50.639675Z",
     "iopub.status.idle": "2022-10-28T09:45:35.052272Z",
     "shell.execute_reply": "2022-10-28T09:45:35.051289Z",
     "shell.execute_reply.started": "2022-10-28T09:44:50.640063Z"
    }
   },
   "outputs": [
    {
     "data": {
      "text/plain": [
       "SVR()"
      ]
     },
     "execution_count": 12,
     "metadata": {},
     "output_type": "execute_result"
    }
   ],
   "source": [
    "from sklearn.svm import SVR\n",
    "svr_rbf = SVR(kernel='rbf')\n",
    "svr_rbf.fit(X_train, y_train.values.ravel()) "
   ]
  },
  {
   "cell_type": "code",
   "execution_count": 13,
   "metadata": {
    "execution": {
     "iopub.execute_input": "2022-10-28T09:45:35.055232Z",
     "iopub.status.busy": "2022-10-28T09:45:35.054095Z",
     "iopub.status.idle": "2022-10-28T09:45:53.571726Z",
     "shell.execute_reply": "2022-10-28T09:45:53.570333Z",
     "shell.execute_reply.started": "2022-10-28T09:45:35.055192Z"
    }
   },
   "outputs": [
    {
     "data": {
      "text/plain": [
       "-0.041341997892341276"
      ]
     },
     "execution_count": 13,
     "metadata": {},
     "output_type": "execute_result"
    }
   ],
   "source": [
    "svr_rbf.score(X_test,y_test)"
   ]
  },
  {
   "cell_type": "code",
   "execution_count": 14,
   "metadata": {
    "execution": {
     "iopub.execute_input": "2022-10-28T09:45:53.574175Z",
     "iopub.status.busy": "2022-10-28T09:45:53.573689Z",
     "iopub.status.idle": "2022-10-28T09:45:53.579563Z",
     "shell.execute_reply": "2022-10-28T09:45:53.578310Z",
     "shell.execute_reply.started": "2022-10-28T09:45:53.574130Z"
    }
   },
   "outputs": [],
   "source": [
    "#RandomSearchCV instead of Gridserch if number of runs in more than 500"
   ]
  },
  {
   "cell_type": "code",
   "execution_count": 15,
   "metadata": {
    "execution": {
     "iopub.execute_input": "2022-10-28T09:45:53.582188Z",
     "iopub.status.busy": "2022-10-28T09:45:53.581426Z",
     "iopub.status.idle": "2022-10-28T09:45:53.591701Z",
     "shell.execute_reply": "2022-10-28T09:45:53.590575Z",
     "shell.execute_reply.started": "2022-10-28T09:45:53.582152Z"
    }
   },
   "outputs": [],
   "source": [
    "#synthetic minority oversampling technique\n",
    "\n",
    "#decision tree dt=1\n",
    "# train data first 3 rows\n",
    "# test\n",
    "\n",
    "# dt=2\n",
    "# train data last 3 rows\n",
    "\n",
    "# dt=3\n",
    "# train data middle 3 rows"
   ]
  },
  {
   "cell_type": "code",
   "execution_count": 16,
   "metadata": {
    "execution": {
     "iopub.execute_input": "2022-10-28T09:45:53.593641Z",
     "iopub.status.busy": "2022-10-28T09:45:53.593304Z",
     "iopub.status.idle": "2022-10-28T09:46:12.016831Z",
     "shell.execute_reply": "2022-10-28T09:46:12.015524Z",
     "shell.execute_reply.started": "2022-10-28T09:45:53.593610Z"
    }
   },
   "outputs": [],
   "source": [
    "y_pred=svr_rbf.predict(X_test)"
   ]
  },
  {
   "cell_type": "code",
   "execution_count": 17,
   "metadata": {
    "execution": {
     "iopub.execute_input": "2022-10-28T09:46:12.018717Z",
     "iopub.status.busy": "2022-10-28T09:46:12.018347Z",
     "iopub.status.idle": "2022-10-28T09:46:12.027323Z",
     "shell.execute_reply": "2022-10-28T09:46:12.026078Z",
     "shell.execute_reply.started": "2022-10-28T09:46:12.018682Z"
    }
   },
   "outputs": [
    {
     "name": "stdout",
     "output_type": "stream",
     "text": [
      "0.09736881956405424\n"
     ]
    }
   ],
   "source": [
    "#Model evaluation\n",
    "from sklearn.metrics import mean_squared_error\n",
    "mse=mean_squared_error(y_pred,y_test)\n",
    "print(mse)"
   ]
  },
  {
   "cell_type": "code",
   "execution_count": 18,
   "metadata": {
    "execution": {
     "iopub.execute_input": "2022-10-28T09:46:12.029354Z",
     "iopub.status.busy": "2022-10-28T09:46:12.028946Z",
     "iopub.status.idle": "2022-10-28T09:46:12.047684Z",
     "shell.execute_reply": "2022-10-28T09:46:12.046323Z",
     "shell.execute_reply.started": "2022-10-28T09:46:12.029318Z"
    }
   },
   "outputs": [
    {
     "name": "stdout",
     "output_type": "stream",
     "text": [
      "0.31203977240738756\n"
     ]
    }
   ],
   "source": [
    "rmse_svm= mse**(1/2)\n",
    "print(rmse_svm)"
   ]
  },
  {
   "cell_type": "code",
   "execution_count": 19,
   "metadata": {
    "execution": {
     "iopub.execute_input": "2022-10-28T09:46:12.050406Z",
     "iopub.status.busy": "2022-10-28T09:46:12.049457Z",
     "iopub.status.idle": "2022-10-28T09:46:12.059452Z",
     "shell.execute_reply": "2022-10-28T09:46:12.058293Z",
     "shell.execute_reply.started": "2022-10-28T09:46:12.050369Z"
    }
   },
   "outputs": [],
   "source": [
    "#confusion matrix visualisation\n",
    "# import seaborn as sns\n"
   ]
  },
  {
   "cell_type": "code",
   "execution_count": 20,
   "metadata": {
    "execution": {
     "iopub.execute_input": "2022-10-28T09:46:12.062024Z",
     "iopub.status.busy": "2022-10-28T09:46:12.060970Z",
     "iopub.status.idle": "2022-10-28T09:46:12.072110Z",
     "shell.execute_reply": "2022-10-28T09:46:12.071291Z",
     "shell.execute_reply.started": "2022-10-28T09:46:12.061986Z"
    }
   },
   "outputs": [],
   "source": [
    "# from sklearn.metrics import confusion_matrix\n",
    "# mat = confusion_matrix(y_test, y_pred)\n",
    "\n",
    "# plt.figure(figsize=(7,5))\n",
    "\n",
    "# sns.heatmap(mat.T, square=True, annot=True, fmt='d', cbar=False,\n",
    "# xticklabels=,\n",
    "# yticklabels=faces.target_names)\n",
    "# plt.xlabel('True label')\n",
    "# plt.ylabel('Predicted label')"
   ]
  },
  {
   "cell_type": "code",
   "execution_count": 21,
   "metadata": {
    "execution": {
     "iopub.execute_input": "2022-10-28T09:46:12.073920Z",
     "iopub.status.busy": "2022-10-28T09:46:12.073586Z",
     "iopub.status.idle": "2022-10-28T09:46:12.086415Z",
     "shell.execute_reply": "2022-10-28T09:46:12.085345Z",
     "shell.execute_reply.started": "2022-10-28T09:46:12.073890Z"
    }
   },
   "outputs": [],
   "source": [
    "params = svr_rbf.get_params()"
   ]
  },
  {
   "cell_type": "code",
   "execution_count": 22,
   "metadata": {
    "execution": {
     "iopub.execute_input": "2022-10-28T09:46:12.088271Z",
     "iopub.status.busy": "2022-10-28T09:46:12.087905Z",
     "iopub.status.idle": "2022-10-28T09:46:12.101270Z",
     "shell.execute_reply": "2022-10-28T09:46:12.100057Z",
     "shell.execute_reply.started": "2022-10-28T09:46:12.088216Z"
    }
   },
   "outputs": [
    {
     "data": {
      "text/plain": [
       "{'C': 1.0,\n",
       " 'cache_size': 200,\n",
       " 'coef0': 0.0,\n",
       " 'degree': 3,\n",
       " 'epsilon': 0.1,\n",
       " 'gamma': 'scale',\n",
       " 'kernel': 'rbf',\n",
       " 'max_iter': -1,\n",
       " 'shrinking': True,\n",
       " 'tol': 0.001,\n",
       " 'verbose': False}"
      ]
     },
     "execution_count": 22,
     "metadata": {},
     "output_type": "execute_result"
    }
   ],
   "source": [
    "params"
   ]
  },
  {
   "cell_type": "code",
   "execution_count": 23,
   "metadata": {
    "execution": {
     "iopub.execute_input": "2022-10-28T09:46:12.103401Z",
     "iopub.status.busy": "2022-10-28T09:46:12.102876Z",
     "iopub.status.idle": "2022-10-28T09:46:12.111077Z",
     "shell.execute_reply": "2022-10-28T09:46:12.110219Z",
     "shell.execute_reply.started": "2022-10-28T09:46:12.103366Z"
    }
   },
   "outputs": [],
   "source": [
    "##PARAMETER TUNING"
   ]
  },
  {
   "cell_type": "code",
   "execution_count": 24,
   "metadata": {
    "execution": {
     "iopub.execute_input": "2022-10-28T09:46:12.112523Z",
     "iopub.status.busy": "2022-10-28T09:46:12.112146Z",
     "iopub.status.idle": "2022-10-28T09:46:12.124951Z",
     "shell.execute_reply": "2022-10-28T09:46:12.123825Z",
     "shell.execute_reply.started": "2022-10-28T09:46:12.112479Z"
    }
   },
   "outputs": [],
   "source": [
    "from sklearn.model_selection import GridSearchCV"
   ]
  },
  {
   "cell_type": "code",
   "execution_count": 25,
   "metadata": {
    "execution": {
     "iopub.execute_input": "2022-10-28T09:46:12.127451Z",
     "iopub.status.busy": "2022-10-28T09:46:12.126695Z",
     "iopub.status.idle": "2022-10-28T09:46:12.136020Z",
     "shell.execute_reply": "2022-10-28T09:46:12.135015Z",
     "shell.execute_reply.started": "2022-10-28T09:46:12.127414Z"
    }
   },
   "outputs": [],
   "source": [
    "params = {'C':[0.01,0.05,0.1,0.5,1],'epsilon':[0.1,0.2,0.5]}"
   ]
  },
  {
   "cell_type": "code",
   "execution_count": 26,
   "metadata": {
    "execution": {
     "iopub.execute_input": "2022-10-28T09:46:12.138597Z",
     "iopub.status.busy": "2022-10-28T09:46:12.138043Z",
     "iopub.status.idle": "2022-10-28T09:46:12.149479Z",
     "shell.execute_reply": "2022-10-28T09:46:12.148450Z",
     "shell.execute_reply.started": "2022-10-28T09:46:12.138553Z"
    }
   },
   "outputs": [],
   "source": [
    "grid = GridSearchCV(SVR(),param_grid=params,cv=5,scoring='r2',verbose=1,return_train_score=True)"
   ]
  },
  {
   "cell_type": "code",
   "execution_count": 27,
   "metadata": {
    "execution": {
     "iopub.execute_input": "2022-10-28T09:46:12.150911Z",
     "iopub.status.busy": "2022-10-28T09:46:12.150600Z",
     "iopub.status.idle": "2022-10-28T10:28:00.822975Z",
     "shell.execute_reply": "2022-10-28T10:28:00.821675Z",
     "shell.execute_reply.started": "2022-10-28T09:46:12.150882Z"
    }
   },
   "outputs": [
    {
     "name": "stdout",
     "output_type": "stream",
     "text": [
      "Fitting 5 folds for each of 15 candidates, totalling 75 fits\n"
     ]
    },
    {
     "data": {
      "text/plain": [
       "GridSearchCV(cv=5, estimator=SVR(),\n",
       "             param_grid={'C': [0.01, 0.05, 0.1, 0.5, 1],\n",
       "                         'epsilon': [0.1, 0.2, 0.5]},\n",
       "             return_train_score=True, scoring='r2', verbose=1)"
      ]
     },
     "execution_count": 27,
     "metadata": {},
     "output_type": "execute_result"
    }
   ],
   "source": [
    "grid.fit(X_train,y_train.values.ravel())"
   ]
  },
  {
   "cell_type": "code",
   "execution_count": 28,
   "metadata": {
    "execution": {
     "iopub.execute_input": "2022-10-28T10:28:00.825422Z",
     "iopub.status.busy": "2022-10-28T10:28:00.824946Z",
     "iopub.status.idle": "2022-10-28T10:28:00.833945Z",
     "shell.execute_reply": "2022-10-28T10:28:00.832767Z",
     "shell.execute_reply.started": "2022-10-28T10:28:00.825374Z"
    }
   },
   "outputs": [
    {
     "data": {
      "text/plain": [
       "SVR(C=1, epsilon=0.2)"
      ]
     },
     "execution_count": 28,
     "metadata": {},
     "output_type": "execute_result"
    }
   ],
   "source": [
    "grid.best_estimator_"
   ]
  },
  {
   "cell_type": "code",
   "execution_count": 29,
   "metadata": {
    "execution": {
     "iopub.execute_input": "2022-10-28T10:28:00.836027Z",
     "iopub.status.busy": "2022-10-28T10:28:00.835487Z",
     "iopub.status.idle": "2022-10-28T10:28:01.676665Z",
     "shell.execute_reply": "2022-10-28T10:28:01.675427Z",
     "shell.execute_reply.started": "2022-10-28T10:28:00.835980Z"
    }
   },
   "outputs": [
    {
     "name": "stderr",
     "output_type": "stream",
     "text": [
      "/opt/conda/lib/python3.7/site-packages/sklearn/utils/validation.py:993: DataConversionWarning: A column-vector y was passed when a 1d array was expected. Please change the shape of y to (n_samples, ), for example using ravel().\n",
      "  y = column_or_1d(y, warn=True)\n"
     ]
    },
    {
     "data": {
      "text/plain": [
       "SVR(C=5.0, epsilon=0.5)"
      ]
     },
     "execution_count": 29,
     "metadata": {},
     "output_type": "execute_result"
    }
   ],
   "source": [
    "svr_best=SVR(kernel='rbf',gamma='scale', C=5.0, epsilon=0.5)\n",
    "svr_best.fit(X_train, y_train)"
   ]
  },
  {
   "cell_type": "code",
   "execution_count": 30,
   "metadata": {
    "execution": {
     "iopub.execute_input": "2022-10-28T10:28:01.683697Z",
     "iopub.status.busy": "2022-10-28T10:28:01.683352Z",
     "iopub.status.idle": "2022-10-28T10:28:02.068119Z",
     "shell.execute_reply": "2022-10-28T10:28:02.066850Z",
     "shell.execute_reply.started": "2022-10-28T10:28:01.683653Z"
    }
   },
   "outputs": [
    {
     "name": "stdout",
     "output_type": "stream",
     "text": [
      "RMSE for RBF kernelized SVR: 0.40306968211788813\n"
     ]
    }
   ],
   "source": [
    "print(\"RMSE for RBF kernelized SVR:\",np.sqrt(mean_squared_error(y_test,svr_best.predict(X_test))))"
   ]
  },
  {
   "cell_type": "code",
   "execution_count": 31,
   "metadata": {
    "execution": {
     "iopub.execute_input": "2022-10-28T10:28:02.072143Z",
     "iopub.status.busy": "2022-10-28T10:28:02.071709Z",
     "iopub.status.idle": "2022-10-28T10:28:02.077231Z",
     "shell.execute_reply": "2022-10-28T10:28:02.076325Z",
     "shell.execute_reply.started": "2022-10-28T10:28:02.072108Z"
    }
   },
   "outputs": [],
   "source": [
    "import pickle\n",
    "pickle.dump(svr_best, open('svr_best.pkl', 'wb'))"
   ]
  },
  {
   "cell_type": "code",
   "execution_count": 33,
   "metadata": {
    "execution": {
     "iopub.execute_input": "2022-10-28T11:06:01.173657Z",
     "iopub.status.busy": "2022-10-28T11:06:01.173231Z",
     "iopub.status.idle": "2022-10-28T11:06:01.545608Z",
     "shell.execute_reply": "2022-10-28T11:06:01.544263Z",
     "shell.execute_reply.started": "2022-10-28T11:06:01.173621Z"
    }
   },
   "outputs": [
    {
     "data": {
      "text/plain": [
       "array([0.49985784, 0.49978967, 0.50320824, ..., 0.5030154 , 0.50007206,\n",
       "       0.50009424])"
      ]
     },
     "execution_count": 33,
     "metadata": {},
     "output_type": "execute_result"
    }
   ],
   "source": [
    "pickled_model = pickle.load(open('svr_best.pkl', 'rb'))\n",
    "pickled_model.predict(X_test)"
   ]
  }
 ],
 "metadata": {
  "kernelspec": {
   "display_name": "Python 3 (ipykernel)",
   "language": "python",
   "name": "python3"
  },
  "language_info": {
   "codemirror_mode": {
    "name": "ipython",
    "version": 3
   },
   "file_extension": ".py",
   "mimetype": "text/x-python",
   "name": "python",
   "nbconvert_exporter": "python",
   "pygments_lexer": "ipython3",
   "version": "3.9.12"
  }
 },
 "nbformat": 4,
 "nbformat_minor": 4
}

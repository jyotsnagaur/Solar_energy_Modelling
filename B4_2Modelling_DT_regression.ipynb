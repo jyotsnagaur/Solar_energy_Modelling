{
 "cells": [
  {
   "cell_type": "markdown",
   "id": "d7c26732",
   "metadata": {},
   "source": [
    "\n",
    "\n",
    "# B4. Modelling for prediction of Solar Power generation\n",
    "\n",
    "For the purpose of modelling the dataset for the prediction of solar irradiation, the timestamp, source key and plant ID were removed. The models used were-Decision Tree, Linear Regression and SVM regreesion. Only for modelling with Linear Regression, the Date variable was kept to visualise the change in variables with respect to date in order to plot the graphs.   \n",
    "\n",
    "## B4.1 Decision Tree\n",
    "First Decision Tree was used. It was giving a high accuracy, but was tuned further using hyper parameter tuning. The model with tuning and without tuning was compared and decision tree was visualised."
   ]
  },
  {
   "cell_type": "code",
   "execution_count": 1,
   "id": "98056118",
   "metadata": {},
   "outputs": [],
   "source": [
    "#importing all the libraries\n",
    "\n",
    "import numpy as np # numpy array and performing algebraic operations\n",
    "import pandas as pd # data processing, CSV file I/O (e.g. pd.read_csv)\n",
    "import seaborn as sns #data visualisation and plots\n",
    "import matplotlib.pyplot as plt #data visualisation and plots"
   ]
  },
  {
   "cell_type": "code",
   "execution_count": 3,
   "id": "a4f9a8ba",
   "metadata": {},
   "outputs": [
    {
     "data": {
      "text/html": [
       "<div>\n",
       "<style scoped>\n",
       "    .dataframe tbody tr th:only-of-type {\n",
       "        vertical-align: middle;\n",
       "    }\n",
       "\n",
       "    .dataframe tbody tr th {\n",
       "        vertical-align: top;\n",
       "    }\n",
       "\n",
       "    .dataframe thead th {\n",
       "        text-align: right;\n",
       "    }\n",
       "</style>\n",
       "<table border=\"1\" class=\"dataframe\">\n",
       "  <thead>\n",
       "    <tr style=\"text-align: right;\">\n",
       "      <th></th>\n",
       "      <th>DC_POWER</th>\n",
       "      <th>AC_POWER</th>\n",
       "      <th>DAILY_YIELD</th>\n",
       "      <th>TOTAL_YIELD</th>\n",
       "      <th>AMBIENT_TEMPERATURE</th>\n",
       "      <th>MODULE_TEMPERATURE</th>\n",
       "      <th>IRRADIATION</th>\n",
       "      <th>TIME</th>\n",
       "      <th>DATE</th>\n",
       "    </tr>\n",
       "  </thead>\n",
       "  <tbody>\n",
       "    <tr>\n",
       "      <th>0</th>\n",
       "      <td>0.0</td>\n",
       "      <td>0.0</td>\n",
       "      <td>0.0</td>\n",
       "      <td>6259559.0</td>\n",
       "      <td>25.184316</td>\n",
       "      <td>22.857507</td>\n",
       "      <td>0.0</td>\n",
       "      <td>0:00:00</td>\n",
       "      <td>15/05/2020</td>\n",
       "    </tr>\n",
       "    <tr>\n",
       "      <th>1</th>\n",
       "      <td>0.0</td>\n",
       "      <td>0.0</td>\n",
       "      <td>0.0</td>\n",
       "      <td>6183645.0</td>\n",
       "      <td>25.184316</td>\n",
       "      <td>22.857507</td>\n",
       "      <td>0.0</td>\n",
       "      <td>0:00:00</td>\n",
       "      <td>15/05/2020</td>\n",
       "    </tr>\n",
       "    <tr>\n",
       "      <th>2</th>\n",
       "      <td>0.0</td>\n",
       "      <td>0.0</td>\n",
       "      <td>0.0</td>\n",
       "      <td>6987759.0</td>\n",
       "      <td>25.184316</td>\n",
       "      <td>22.857507</td>\n",
       "      <td>0.0</td>\n",
       "      <td>0:00:00</td>\n",
       "      <td>15/05/2020</td>\n",
       "    </tr>\n",
       "    <tr>\n",
       "      <th>3</th>\n",
       "      <td>0.0</td>\n",
       "      <td>0.0</td>\n",
       "      <td>0.0</td>\n",
       "      <td>7602960.0</td>\n",
       "      <td>25.184316</td>\n",
       "      <td>22.857507</td>\n",
       "      <td>0.0</td>\n",
       "      <td>0:00:00</td>\n",
       "      <td>15/05/2020</td>\n",
       "    </tr>\n",
       "    <tr>\n",
       "      <th>4</th>\n",
       "      <td>0.0</td>\n",
       "      <td>0.0</td>\n",
       "      <td>0.0</td>\n",
       "      <td>7158964.0</td>\n",
       "      <td>25.184316</td>\n",
       "      <td>22.857507</td>\n",
       "      <td>0.0</td>\n",
       "      <td>0:00:00</td>\n",
       "      <td>15/05/2020</td>\n",
       "    </tr>\n",
       "  </tbody>\n",
       "</table>\n",
       "</div>"
      ],
      "text/plain": [
       "   DC_POWER  AC_POWER  DAILY_YIELD  TOTAL_YIELD  AMBIENT_TEMPERATURE  \\\n",
       "0       0.0       0.0          0.0    6259559.0            25.184316   \n",
       "1       0.0       0.0          0.0    6183645.0            25.184316   \n",
       "2       0.0       0.0          0.0    6987759.0            25.184316   \n",
       "3       0.0       0.0          0.0    7602960.0            25.184316   \n",
       "4       0.0       0.0          0.0    7158964.0            25.184316   \n",
       "\n",
       "   MODULE_TEMPERATURE  IRRADIATION     TIME        DATE  \n",
       "0           22.857507          0.0  0:00:00  15/05/2020  \n",
       "1           22.857507          0.0  0:00:00  15/05/2020  \n",
       "2           22.857507          0.0  0:00:00  15/05/2020  \n",
       "3           22.857507          0.0  0:00:00  15/05/2020  \n",
       "4           22.857507          0.0  0:00:00  15/05/2020  "
      ]
     },
     "execution_count": 3,
     "metadata": {},
     "output_type": "execute_result"
    }
   ],
   "source": [
    "new_data = pd.read_csv('C:/Users/win/Desktop/FinalCode/dataset/new_data_LR.csv')\n",
    "new_data.head()"
   ]
  },
  {
   "cell_type": "code",
   "execution_count": 4,
   "id": "6c7ad1f1",
   "metadata": {
    "scrolled": true
   },
   "outputs": [
    {
     "data": {
      "text/plain": [
       "Index(['DC_POWER', 'AC_POWER', 'DAILY_YIELD', 'TOTAL_YIELD',\n",
       "       'AMBIENT_TEMPERATURE', 'MODULE_TEMPERATURE', 'IRRADIATION', 'TIME',\n",
       "       'DATE'],\n",
       "      dtype='object')"
      ]
     },
     "execution_count": 4,
     "metadata": {},
     "output_type": "execute_result"
    }
   ],
   "source": [
    "new_data.keys()"
   ]
  },
  {
   "cell_type": "markdown",
   "id": "ccce022a",
   "metadata": {},
   "source": [
    "### B4.1.1 Selecting the features for Modelling"
   ]
  },
  {
   "cell_type": "code",
   "execution_count": 5,
   "id": "ef4f058e",
   "metadata": {},
   "outputs": [],
   "source": [
    "X = new_data[['DC_POWER', 'AC_POWER', 'DAILY_YIELD',\n",
    "       'TOTAL_YIELD', 'AMBIENT_TEMPERATURE', 'MODULE_TEMPERATURE']]\n",
    "y = new_data[['IRRADIATION']]"
   ]
  },
  {
   "cell_type": "markdown",
   "id": "4d7a5828",
   "metadata": {},
   "source": [
    "### B4.1.2 Building a Decision Tree Model for Regression"
   ]
  },
  {
   "cell_type": "code",
   "execution_count": 6,
   "id": "e83269ae",
   "metadata": {},
   "outputs": [],
   "source": [
    "from sklearn.model_selection import train_test_split\n",
    "X_train, X_test, y_train, y_test = train_test_split(X,y, test_size = 0.2, random_state=3)"
   ]
  },
  {
   "cell_type": "code",
   "execution_count": 7,
   "id": "761f6cbc",
   "metadata": {},
   "outputs": [
    {
     "data": {
      "text/plain": [
       "(36544, 6)"
      ]
     },
     "execution_count": 7,
     "metadata": {},
     "output_type": "execute_result"
    }
   ],
   "source": [
    "X_train.shape"
   ]
  },
  {
   "cell_type": "code",
   "execution_count": 8,
   "id": "96fab321",
   "metadata": {},
   "outputs": [
    {
     "data": {
      "text/plain": [
       "(9136, 6)"
      ]
     },
     "execution_count": 8,
     "metadata": {},
     "output_type": "execute_result"
    }
   ],
   "source": [
    "X_test.shape"
   ]
  },
  {
   "cell_type": "code",
   "execution_count": 9,
   "id": "2871144b",
   "metadata": {},
   "outputs": [
    {
     "data": {
      "text/plain": [
       "(36544, 1)"
      ]
     },
     "execution_count": 9,
     "metadata": {},
     "output_type": "execute_result"
    }
   ],
   "source": [
    "y_train.shape"
   ]
  },
  {
   "cell_type": "code",
   "execution_count": 10,
   "id": "f5c0b32e",
   "metadata": {},
   "outputs": [
    {
     "data": {
      "text/plain": [
       "(9136, 1)"
      ]
     },
     "execution_count": 10,
     "metadata": {},
     "output_type": "execute_result"
    }
   ],
   "source": [
    "y_test.shape"
   ]
  },
  {
   "cell_type": "markdown",
   "id": "c8e2e017",
   "metadata": {},
   "source": [
    "### B4.1.3 Training the model to make a prediction\n"
   ]
  },
  {
   "cell_type": "code",
   "execution_count": 11,
   "id": "9c2827bf",
   "metadata": {},
   "outputs": [],
   "source": [
    "#-------Train with Decision Tree------------#\n",
    "\n",
    "#import decision tree regressor\n",
    "from sklearn.tree import DecisionTreeRegressor\n",
    "\n"
   ]
  },
  {
   "cell_type": "code",
   "execution_count": 12,
   "id": "9a1fc163",
   "metadata": {},
   "outputs": [],
   "source": [
    "#Instantiate a DecisionTreeRegressor 'dt'\n",
    "dt = DecisionTreeRegressor(max_depth=4, min_samples_leaf=0.1,random_state=3)"
   ]
  },
  {
   "cell_type": "code",
   "execution_count": 13,
   "id": "8b09c527",
   "metadata": {},
   "outputs": [
    {
     "data": {
      "text/plain": [
       "DecisionTreeRegressor(max_depth=4, min_samples_leaf=0.1, random_state=3)"
      ]
     },
     "execution_count": 13,
     "metadata": {},
     "output_type": "execute_result"
    }
   ],
   "source": [
    "#Fit dt to the training set\n",
    "dt.fit(X_train,y_train)\n"
   ]
  },
  {
   "cell_type": "code",
   "execution_count": 14,
   "id": "e6d2271c",
   "metadata": {},
   "outputs": [],
   "source": [
    "#Predict test-set labels\n",
    "y_pred= dt.predict(X_test)"
   ]
  },
  {
   "cell_type": "markdown",
   "id": "67a79802",
   "metadata": {},
   "source": [
    "### B4.1.3 Evaluate the Model"
   ]
  },
  {
   "cell_type": "code",
   "execution_count": 15,
   "id": "cdf28ec9",
   "metadata": {},
   "outputs": [],
   "source": [
    "#import mean squared error as MSE\n",
    "from sklearn.metrics import mean_squared_error as MSE"
   ]
  },
  {
   "cell_type": "code",
   "execution_count": 16,
   "id": "18e3d3d0",
   "metadata": {},
   "outputs": [],
   "source": [
    "#Compute test-set MSE\n",
    "mse_dt=MSE(y_test,y_pred)"
   ]
  },
  {
   "cell_type": "code",
   "execution_count": 17,
   "id": "b20a6e1d",
   "metadata": {},
   "outputs": [],
   "source": [
    "#Compute test-set RMSE\n",
    "rmse_dt= mse_dt**(1/2)"
   ]
  },
  {
   "cell_type": "code",
   "execution_count": 18,
   "id": "f73ce0f3",
   "metadata": {},
   "outputs": [
    {
     "name": "stdout",
     "output_type": "stream",
     "text": [
      "0.0699855604954722\n"
     ]
    }
   ],
   "source": [
    "#Print root mean square error of model\n",
    "print(rmse_dt)"
   ]
  },
  {
   "cell_type": "markdown",
   "id": "c45bc3cb",
   "metadata": {},
   "source": [
    "### B4.1.4 Parameter Tunning\n"
   ]
  },
  {
   "cell_type": "code",
   "execution_count": 19,
   "id": "3069dd76",
   "metadata": {},
   "outputs": [],
   "source": [
    "# Hyper parameters range intialization for tuning \n",
    "\n",
    "parameters={\"splitter\":[\"best\",\"random\"],\n",
    "            \"max_depth\" : [1,3,5,7,9,11,12],\n",
    "           \"min_samples_leaf\":[1,2,3,4,5,6,7,8,9,10],\n",
    "           \"min_weight_fraction_leaf\":[0.1,0.2,0.3,0.4,0.5,0.6,0.7,0.8,0.9],\n",
    "           \"max_features\":[\"auto\",\"log2\",\"sqrt\",None],\n",
    "           \"max_leaf_nodes\":[None,10,20,30,40,50,60,70,80,90] }"
   ]
  },
  {
   "cell_type": "code",
   "execution_count": 20,
   "id": "c0dc5141",
   "metadata": {},
   "outputs": [],
   "source": [
    "from sklearn.model_selection import GridSearchCV"
   ]
  },
  {
   "cell_type": "code",
   "execution_count": 21,
   "id": "63b50d12",
   "metadata": {},
   "outputs": [],
   "source": [
    "tuning_model=GridSearchCV(dt,param_grid=parameters,scoring='neg_mean_squared_error',cv=3,verbose=3)"
   ]
  },
  {
   "cell_type": "code",
   "execution_count": 22,
   "id": "6f973a20",
   "metadata": {},
   "outputs": [],
   "source": [
    "# function for calculating how much time take for hyperparameter tuning\n",
    "\n",
    "def timer(start_time=None):\n",
    "    if not start_time:\n",
    "        start_time=datetime.now()\n",
    "        return start_time\n",
    "    elif start_time:\n",
    "        thour,temp_sec=divmod((datetime.now()-start_time).total_seconds(),3600)\n",
    "        tmin,tsec=divmod(temp_sec,60)\n",
    "        #print(thour,\":\",tmin,':',round(tsec,2))"
   ]
  },
  {
   "cell_type": "code",
   "execution_count": 23,
   "id": "5d6fbb31",
   "metadata": {},
   "outputs": [],
   "source": [
    "%%capture\n",
    "from datetime import datetime\n",
    "\n",
    "start_time=timer(None)\n",
    "\n",
    "tuning_model.fit(X,y)\n",
    "\n",
    "timer(start_time)"
   ]
  },
  {
   "cell_type": "code",
   "execution_count": 24,
   "id": "a73c9e26",
   "metadata": {},
   "outputs": [
    {
     "data": {
      "text/plain": [
       "{'max_depth': 5,\n",
       " 'max_features': 'auto',\n",
       " 'max_leaf_nodes': 10,\n",
       " 'min_samples_leaf': 1,\n",
       " 'min_weight_fraction_leaf': 0.1,\n",
       " 'splitter': 'best'}"
      ]
     },
     "execution_count": 24,
     "metadata": {},
     "output_type": "execute_result"
    }
   ],
   "source": [
    "# best hyperparameters \n",
    "tuning_model.best_params_\n"
   ]
  },
  {
   "cell_type": "code",
   "execution_count": 25,
   "id": "65621cfa",
   "metadata": {},
   "outputs": [
    {
     "data": {
      "text/plain": [
       "-0.005688720586503437"
      ]
     },
     "execution_count": 25,
     "metadata": {},
     "output_type": "execute_result"
    }
   ],
   "source": [
    "# best model score\n",
    "tuning_model.best_score_"
   ]
  },
  {
   "cell_type": "markdown",
   "id": "6d01a240",
   "metadata": {},
   "source": [
    "### B4.1.5 Training Decision Tree With Best Hyperparameters"
   ]
  },
  {
   "cell_type": "code",
   "execution_count": 26,
   "id": "8ac64572",
   "metadata": {},
   "outputs": [],
   "source": [
    "tuned_hyper_model=DecisionTreeRegressor(max_depth=5,max_features='auto',max_leaf_nodes=10,min_samples_leaf=1,min_weight_fraction_leaf=0.1,splitter='best')"
   ]
  },
  {
   "cell_type": "code",
   "execution_count": 27,
   "id": "9760343c",
   "metadata": {},
   "outputs": [
    {
     "data": {
      "text/plain": [
       "DecisionTreeRegressor(max_depth=5, max_features='auto', max_leaf_nodes=10,\n",
       "                      min_weight_fraction_leaf=0.1)"
      ]
     },
     "execution_count": 27,
     "metadata": {},
     "output_type": "execute_result"
    }
   ],
   "source": [
    "# fitting model\n",
    "\n",
    "\n",
    "tuned_hyper_model.fit(X_train,y_train)"
   ]
  },
  {
   "cell_type": "markdown",
   "id": "013935f7",
   "metadata": {},
   "source": [
    "### B4.1.6 Prediction and calculate metrics"
   ]
  },
  {
   "cell_type": "code",
   "execution_count": 28,
   "id": "4313f261",
   "metadata": {},
   "outputs": [],
   "source": [
    "# prediction \n",
    "\n",
    "tuned_pred=tuned_hyper_model.predict(X_test)"
   ]
  },
  {
   "cell_type": "markdown",
   "id": "5daffec5",
   "metadata": {},
   "source": [
    "### B4.1.7 Evaluate the model"
   ]
  },
  {
   "cell_type": "code",
   "execution_count": 29,
   "id": "0ed69036",
   "metadata": {},
   "outputs": [
    {
     "name": "stdout",
     "output_type": "stream",
     "text": [
      "MAE: 0.040068089413185765\n",
      "MSE: 0.004897978431094053\n",
      "RMSE: 0.06998555873245603\n"
     ]
    }
   ],
   "source": [
    "# With hyperparameter tuned \n",
    "\n",
    "from sklearn import metrics\n",
    "\n",
    "print('MAE:', metrics.mean_absolute_error(y_test,tuned_pred))\n",
    "print('MSE:', metrics.mean_squared_error(y_test, tuned_pred))\n",
    "print('RMSE:', np.sqrt(metrics.mean_squared_error(y_test, tuned_pred)))\n"
   ]
  },
  {
   "cell_type": "code",
   "execution_count": 30,
   "id": "b77721d7",
   "metadata": {
    "scrolled": true
   },
   "outputs": [
    {
     "name": "stdout",
     "output_type": "stream",
     "text": [
      "MAE: 0.04006830563914639\n",
      "MSE: 0.004897978677865398\n",
      "RMSE: 0.0699855604954722\n"
     ]
    }
   ],
   "source": [
    "# without hyperparameter tuning \n",
    "\n",
    "from sklearn import metrics\n",
    "prediction=dt.predict(X_test)\n",
    "print('MAE:', metrics.mean_absolute_error(y_test,prediction))\n",
    "print('MSE:', metrics.mean_squared_error(y_test, prediction))\n",
    "print('RMSE:', np.sqrt(metrics.mean_squared_error(y_test, prediction)))"
   ]
  },
  {
   "cell_type": "markdown",
   "id": "d6f96101",
   "metadata": {},
   "source": [
    "<b>There is a difference in the mean square error in both the models. The hyperparameter tuned model has a lesser Mean Square Error meaning that it is a better model.</b> "
   ]
  },
  {
   "cell_type": "markdown",
   "id": "1f0c301c",
   "metadata": {},
   "source": [
    "### B4.1.8 Visualise the tree"
   ]
  },
  {
   "cell_type": "code",
   "execution_count": 31,
   "id": "130946b6",
   "metadata": {},
   "outputs": [
    {
     "data": {
      "text/plain": [
       "DecisionTreeRegressor(max_depth=4, min_samples_leaf=0.1, random_state=3)"
      ]
     },
     "execution_count": 31,
     "metadata": {},
     "output_type": "execute_result"
    }
   ],
   "source": [
    "dt.fit(X_train, y_train)"
   ]
  },
  {
   "cell_type": "code",
   "execution_count": 32,
   "id": "41282c3a",
   "metadata": {},
   "outputs": [
    {
     "data": {
      "image/png": "[encoded data removed]",
      "text/plain": [
       "<Figure size 1080x720 with 1 Axes>"
      ]
     },
     "metadata": {
      "needs_background": "light"
     },
     "output_type": "display_data"
    }
   ],
   "source": [
    "from matplotlib import pyplot as plt\n",
    "from sklearn import tree\n",
    "fig = plt.figure(figsize=(15,10))\n",
    "_ = tree.plot_tree(tuned_hyper_model,\n",
    "filled=True,\n",
    "feature_names=['DC_POWER', 'AC_POWER', 'DAILY_YIELD',\n",
    "       'TOTAL_YIELD', 'AMBIENT_TEMPERATURE', 'MODULE_TEMPERATURE'],\n",
    "class_names='IRRADIATION')"
   ]
  },
  {
   "cell_type": "markdown",
   "id": "3267ed8b",
   "metadata": {},
   "source": [
    "<b>The decision tree starts building itself from the first feature in the dataset which is the DC power. Based on the value of DC Power the tree branches out. The ideal branch for the model from this tree is:</b> \n",
    "    \n",
    "Here if DC Power is less than 1654V then the value of AC power is checked. If DC power is more than 1654V the model predicts with an MSE of 0.037. \n",
    "    \n",
    "If AC power is less than 1267V then the Module temperature is checked. If its not then the model predicts with MSE of 0.001\n",
    "    \n",
    "If the module temperature is less than 22 degree then Daily Yield is checked. If its not then model predicts with MSE of 0.003\n",
    "    \n",
    "If the Daily yield is less than 312KW then the model predicts with MSE tending to 0. "
   ]
  },
  {
   "cell_type": "markdown",
   "id": "8d9250d3",
   "metadata": {},
   "source": [
    "## Save the Model"
   ]
  },
  {
   "cell_type": "code",
   "execution_count": 33,
   "id": "e1837536",
   "metadata": {},
   "outputs": [],
   "source": [
    "import pickle"
   ]
  },
  {
   "cell_type": "code",
   "execution_count": 34,
   "id": "9515b446",
   "metadata": {},
   "outputs": [],
   "source": [
    "filename='DTModel.pkl'"
   ]
  },
  {
   "cell_type": "code",
   "execution_count": 35,
   "id": "c044fe0a",
   "metadata": {},
   "outputs": [],
   "source": [
    "pickle.dump(dt,open(filename,'wb'))"
   ]
  },
  {
   "cell_type": "markdown",
   "id": "fce8c179",
   "metadata": {},
   "source": [
    "## Load model from pickle"
   ]
  },
  {
   "cell_type": "code",
   "execution_count": 36,
   "id": "fe3f2f25",
   "metadata": {},
   "outputs": [],
   "source": [
    "load_model=pickle.load(open(filename,'rb'))"
   ]
  },
  {
   "cell_type": "markdown",
   "id": "2e8a9ea6",
   "metadata": {},
   "source": [
    "## References"
   ]
  },
  {
   "cell_type": "markdown",
   "id": "d2409c3e",
   "metadata": {},
   "source": [
    "[1]Week 7 Tutorial Breast Cancer Detection from Decision Tree Model,university canvas site "
   ]
  },
  {
   "cell_type": "code",
   "execution_count": null,
   "id": "0e87fdaa",
   "metadata": {},
   "outputs": [],
   "source": []
  }
 ],
 "metadata": {
  "kernelspec": {
   "display_name": "Python 3",
   "language": "python",
   "name": "python3"
  },
  "language_info": {
   "codemirror_mode": {
    "name": "ipython",
    "version": 3
   },
   "file_extension": ".py",
   "mimetype": "text/x-python",
   "name": "python",
   "nbconvert_exporter": "python",
   "pygments_lexer": "ipython3",
   "version": "3.8.8"
  }
 },
 "nbformat": 4,
 "nbformat_minor": 5
}
